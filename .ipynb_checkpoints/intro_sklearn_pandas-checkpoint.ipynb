{
 "cells": [
  {
   "cell_type": "markdown",
   "metadata": {},
   "source": [
    "# sklearn-pandas: don't be `pd.get_dummies()`\n",
    "\n",
    "Today we're talking about [`sklearn-pandas`](https://github.com/scikit-learn-contrib/sklearn-pandas#sklearn-pandas)\n",
    "\n",
    "1. Prevents data leakage\n",
    "2. Works with new data!\n",
    "\n",
    "Pair Programmed by Miles Erickson, Brian Mcgarry, and Cristian Nuno\n",
    "Date: May 16, 2019"
   ]
  },
  {
   "cell_type": "code",
   "execution_count": 17,
   "metadata": {
    "scrolled": true
   },
   "outputs": [
    {
     "name": "stdout",
     "output_type": "stream",
     "text": [
      "Collecting sklearn-pandas\n",
      "  Downloading https://files.pythonhosted.org/packages/1f/48/4e1461d828baf41d609efaa720d20090ac6ec346b5daad3c88e243e2207e/sklearn_pandas-1.8.0-py2.py3-none-any.whl\n",
      "Requirement already satisfied: pandas>=0.11.0 in /Users/cnuno/anaconda3/envs/learn-env/lib/python3.6/site-packages (from sklearn-pandas) (0.23.4)\n",
      "Requirement already satisfied: scikit-learn>=0.15.0 in /Users/cnuno/anaconda3/envs/learn-env/lib/python3.6/site-packages (from sklearn-pandas) (0.20.2)\n",
      "Requirement already satisfied: numpy>=1.6.1 in /Users/cnuno/anaconda3/envs/learn-env/lib/python3.6/site-packages (from sklearn-pandas) (1.16.2)\n",
      "Requirement already satisfied: scipy>=0.14 in /Users/cnuno/anaconda3/envs/learn-env/lib/python3.6/site-packages (from sklearn-pandas) (1.1.0)\n",
      "Requirement already satisfied: python-dateutil>=2.5.0 in /Users/cnuno/anaconda3/envs/learn-env/lib/python3.6/site-packages (from pandas>=0.11.0->sklearn-pandas) (2.8.0)\n",
      "Requirement already satisfied: pytz>=2011k in /Users/cnuno/anaconda3/envs/learn-env/lib/python3.6/site-packages (from pandas>=0.11.0->sklearn-pandas) (2018.5)\n",
      "Requirement already satisfied: six>=1.5 in /Users/cnuno/anaconda3/envs/learn-env/lib/python3.6/site-packages (from python-dateutil>=2.5.0->pandas>=0.11.0->sklearn-pandas) (1.11.0)\n",
      "Installing collected packages: sklearn-pandas\n",
      "Successfully installed sklearn-pandas-1.8.0\n",
      "\u001b[33mYou are using pip version 10.0.1, however version 19.1.1 is available.\n",
      "You should consider upgrading via the 'pip install --upgrade pip' command.\u001b[0m\n"
     ]
    }
   ],
   "source": [
    "!pip install sklearn-pandas"
   ]
  },
  {
   "cell_type": "code",
   "execution_count": 18,
   "metadata": {},
   "outputs": [],
   "source": [
    "import sklearn_pandas "
   ]
  },
  {
   "cell_type": "code",
   "execution_count": 1,
   "metadata": {},
   "outputs": [],
   "source": [
    "import pandas as pd"
   ]
  },
  {
   "cell_type": "code",
   "execution_count": 2,
   "metadata": {},
   "outputs": [
    {
     "name": "stdout",
     "output_type": "stream",
     "text": [
      "--2019-05-16 14:03:47--  https://gist.github.com/michhar/2dfd2de0d4f8727f873422c5d959fff5/raw/ff414a1bcfcba32481e4d4e8db578e55872a2ca1/titanic.csv\n",
      "Resolving gist.github.com (gist.github.com)... 192.30.255.118\n",
      "Connecting to gist.github.com (gist.github.com)|192.30.255.118|:443... connected.\n",
      "HTTP request sent, awaiting response... 301 Moved Permanently\n",
      "Location: https://gist.githubusercontent.com/michhar/2dfd2de0d4f8727f873422c5d959fff5/raw/ff414a1bcfcba32481e4d4e8db578e55872a2ca1/titanic.csv [following]\n",
      "--2019-05-16 14:03:47--  https://gist.githubusercontent.com/michhar/2dfd2de0d4f8727f873422c5d959fff5/raw/ff414a1bcfcba32481e4d4e8db578e55872a2ca1/titanic.csv\n",
      "Resolving gist.githubusercontent.com (gist.githubusercontent.com)... 151.101.64.133, 151.101.128.133, 151.101.192.133, ...\n",
      "Connecting to gist.githubusercontent.com (gist.githubusercontent.com)|151.101.64.133|:443... connected.\n",
      "HTTP request sent, awaiting response... 200 OK\n",
      "Length: 10305 (10K) [text/plain]\n",
      "Saving to: ‘titanic.csv’\n",
      "\n",
      "titanic.csv         100%[===================>]  10.06K  --.-KB/s    in 0s      \n",
      "\n",
      "2019-05-16 14:03:48 (25.0 MB/s) - ‘titanic.csv’ saved [10305/10305]\n",
      "\n"
     ]
    }
   ],
   "source": [
    "!wget https://gist.github.com/michhar/2dfd2de0d4f8727f873422c5d959fff5/raw/ff414a1bcfcba32481e4d4e8db578e55872a2ca1/titanic.csv"
   ]
  },
  {
   "cell_type": "code",
   "execution_count": 32,
   "metadata": {},
   "outputs": [],
   "source": [
    "titanic = pd.read_csv(\"titanic.csv\", delimiter=\"\\t\")"
   ]
  },
  {
   "cell_type": "code",
   "execution_count": 33,
   "metadata": {},
   "outputs": [
    {
     "data": {
      "text/html": [
       "<div>\n",
       "<style scoped>\n",
       "    .dataframe tbody tr th:only-of-type {\n",
       "        vertical-align: middle;\n",
       "    }\n",
       "\n",
       "    .dataframe tbody tr th {\n",
       "        vertical-align: top;\n",
       "    }\n",
       "\n",
       "    .dataframe thead th {\n",
       "        text-align: right;\n",
       "    }\n",
       "</style>\n",
       "<table border=\"1\" class=\"dataframe\">\n",
       "  <thead>\n",
       "    <tr style=\"text-align: right;\">\n",
       "      <th></th>\n",
       "      <th>PassengerId</th>\n",
       "      <th>Survived</th>\n",
       "      <th>Pclass</th>\n",
       "      <th>Name</th>\n",
       "      <th>Sex</th>\n",
       "      <th>Age</th>\n",
       "      <th>SibSp</th>\n",
       "      <th>Parch</th>\n",
       "      <th>Ticket</th>\n",
       "      <th>Fare</th>\n",
       "      <th>Cabin</th>\n",
       "      <th>Embarked</th>\n",
       "    </tr>\n",
       "  </thead>\n",
       "  <tbody>\n",
       "    <tr>\n",
       "      <th>0</th>\n",
       "      <td>1</td>\n",
       "      <td>0</td>\n",
       "      <td>3</td>\n",
       "      <td>Braund, Mr. Owen Harris</td>\n",
       "      <td>male</td>\n",
       "      <td>22.0</td>\n",
       "      <td>1</td>\n",
       "      <td>0</td>\n",
       "      <td>A/5 21171</td>\n",
       "      <td>7.2500</td>\n",
       "      <td>NaN</td>\n",
       "      <td>S</td>\n",
       "    </tr>\n",
       "    <tr>\n",
       "      <th>1</th>\n",
       "      <td>2</td>\n",
       "      <td>1</td>\n",
       "      <td>1</td>\n",
       "      <td>Cumings, Mrs. John Bradley (Florence Briggs Th...</td>\n",
       "      <td>female</td>\n",
       "      <td>38.0</td>\n",
       "      <td>1</td>\n",
       "      <td>0</td>\n",
       "      <td>PC 17599</td>\n",
       "      <td>71.2833</td>\n",
       "      <td>C85</td>\n",
       "      <td>C</td>\n",
       "    </tr>\n",
       "    <tr>\n",
       "      <th>2</th>\n",
       "      <td>3</td>\n",
       "      <td>1</td>\n",
       "      <td>3</td>\n",
       "      <td>Heikkinen, Miss. Laina</td>\n",
       "      <td>female</td>\n",
       "      <td>26.0</td>\n",
       "      <td>0</td>\n",
       "      <td>0</td>\n",
       "      <td>STON/O2. 3101282</td>\n",
       "      <td>7.9250</td>\n",
       "      <td>NaN</td>\n",
       "      <td>S</td>\n",
       "    </tr>\n",
       "    <tr>\n",
       "      <th>3</th>\n",
       "      <td>4</td>\n",
       "      <td>1</td>\n",
       "      <td>1</td>\n",
       "      <td>Futrelle, Mrs. Jacques Heath (Lily May Peel)</td>\n",
       "      <td>female</td>\n",
       "      <td>35.0</td>\n",
       "      <td>1</td>\n",
       "      <td>0</td>\n",
       "      <td>113803</td>\n",
       "      <td>53.1000</td>\n",
       "      <td>C123</td>\n",
       "      <td>S</td>\n",
       "    </tr>\n",
       "    <tr>\n",
       "      <th>4</th>\n",
       "      <td>5</td>\n",
       "      <td>0</td>\n",
       "      <td>3</td>\n",
       "      <td>Allen, Mr. William Henry</td>\n",
       "      <td>male</td>\n",
       "      <td>35.0</td>\n",
       "      <td>0</td>\n",
       "      <td>0</td>\n",
       "      <td>373450</td>\n",
       "      <td>8.0500</td>\n",
       "      <td>NaN</td>\n",
       "      <td>S</td>\n",
       "    </tr>\n",
       "  </tbody>\n",
       "</table>\n",
       "</div>"
      ],
      "text/plain": [
       "   PassengerId  Survived  Pclass  \\\n",
       "0            1         0       3   \n",
       "1            2         1       1   \n",
       "2            3         1       3   \n",
       "3            4         1       1   \n",
       "4            5         0       3   \n",
       "\n",
       "                                                Name     Sex   Age  SibSp  \\\n",
       "0                            Braund, Mr. Owen Harris    male  22.0      1   \n",
       "1  Cumings, Mrs. John Bradley (Florence Briggs Th...  female  38.0      1   \n",
       "2                             Heikkinen, Miss. Laina  female  26.0      0   \n",
       "3       Futrelle, Mrs. Jacques Heath (Lily May Peel)  female  35.0      1   \n",
       "4                           Allen, Mr. William Henry    male  35.0      0   \n",
       "\n",
       "   Parch            Ticket     Fare Cabin Embarked  \n",
       "0      0         A/5 21171   7.2500   NaN        S  \n",
       "1      0          PC 17599  71.2833   C85        C  \n",
       "2      0  STON/O2. 3101282   7.9250   NaN        S  \n",
       "3      0            113803  53.1000  C123        S  \n",
       "4      0            373450   8.0500   NaN        S  "
      ]
     },
     "execution_count": 33,
     "metadata": {},
     "output_type": "execute_result"
    }
   ],
   "source": [
    "titanic.head()"
   ]
  },
  {
   "cell_type": "code",
   "execution_count": 34,
   "metadata": {},
   "outputs": [
    {
     "name": "stdout",
     "output_type": "stream",
     "text": [
      "<class 'pandas.core.frame.DataFrame'>\n",
      "RangeIndex: 156 entries, 0 to 155\n",
      "Data columns (total 12 columns):\n",
      "PassengerId    156 non-null int64\n",
      "Survived       156 non-null int64\n",
      "Pclass         156 non-null int64\n",
      "Name           156 non-null object\n",
      "Sex            156 non-null object\n",
      "Age            126 non-null float64\n",
      "SibSp          156 non-null int64\n",
      "Parch          156 non-null int64\n",
      "Ticket         156 non-null object\n",
      "Fare           156 non-null float64\n",
      "Cabin          31 non-null object\n",
      "Embarked       155 non-null object\n",
      "dtypes: float64(2), int64(5), object(5)\n",
      "memory usage: 14.7+ KB\n"
     ]
    }
   ],
   "source": [
    "titanic.info()"
   ]
  },
  {
   "cell_type": "markdown",
   "metadata": {},
   "source": [
    "Right off the bat, we need to clean `Age` because we have missing values!"
   ]
  },
  {
   "cell_type": "code",
   "execution_count": 35,
   "metadata": {},
   "outputs": [],
   "source": [
    "import numpy as np\n",
    "from sklearn.impute import SimpleImputer"
   ]
  },
  {
   "cell_type": "markdown",
   "metadata": {},
   "source": [
    "```python\n",
    ">>> mapper = DataFrameMapper([\n",
    "...     ('pet', sklearn.preprocessing.LabelBinarizer()),\n",
    "...     (['children'], sklearn.preprocessing.StandardScaler())\n",
    "... ])\n",
    "```"
   ]
  },
  {
   "cell_type": "code",
   "execution_count": 36,
   "metadata": {},
   "outputs": [],
   "source": [
    "from sklearn.compose import ColumnTransformer"
   ]
  },
  {
   "cell_type": "code",
   "execution_count": 37,
   "metadata": {},
   "outputs": [],
   "source": [
    "from sklearn_pandas import FunctionTransformer"
   ]
  },
  {
   "cell_type": "code",
   "execution_count": 84,
   "metadata": {},
   "outputs": [],
   "source": [
    "imp_mean = SimpleImputer(missing_values=np.nan, strategy='mean')\n",
    "\n",
    "def is_female(x):\n",
    "    \"\"\"Assigns 1 if female; 0 if else\"\"\"\n",
    "    if x == \"female\":\n",
    "        return 1\n",
    "    else:\n",
    "        return 0\n",
    "\n",
    "mapper = sklearn_pandas.DataFrameMapper([\n",
    "    ([\"Age\"], imp_mean),\n",
    "    (\"Sex\", FunctionTransformer(is_female)),\n",
    "    (\"Fare\", None),\n",
    "])"
   ]
  },
  {
   "cell_type": "code",
   "execution_count": 85,
   "metadata": {
    "scrolled": true
   },
   "outputs": [
    {
     "data": {
      "text/plain": [
       "DataFrameMapper(default=False, df_out=False,\n",
       "        features=[(['Age'], SimpleImputer(copy=True, fill_value=None, missing_values=nan, strategy='mean',\n",
       "       verbose=0)), ('Sex', FunctionTransformer(func=None)), ('Fare', None)],\n",
       "        input_df=False, sparse=False)"
      ]
     },
     "execution_count": 85,
     "metadata": {},
     "output_type": "execute_result"
    }
   ],
   "source": [
    "mapper.fit(titanic)"
   ]
  },
  {
   "cell_type": "code",
   "execution_count": 86,
   "metadata": {},
   "outputs": [
    {
     "data": {
      "text/plain": [
       "array([[ 22.        ,   0.        ,   7.25      ],\n",
       "       [ 38.        ,   1.        ,  71.2833    ],\n",
       "       [ 26.        ,   1.        ,   7.925     ],\n",
       "       [ 35.        ,   1.        ,  53.1       ],\n",
       "       [ 35.        ,   0.        ,   8.05      ],\n",
       "       [ 28.14150794,   0.        ,   8.4583    ],\n",
       "       [ 54.        ,   0.        ,  51.8625    ],\n",
       "       [  2.        ,   0.        ,  21.075     ],\n",
       "       [ 27.        ,   1.        ,  11.1333    ],\n",
       "       [ 14.        ,   1.        ,  30.0708    ],\n",
       "       [  4.        ,   1.        ,  16.7       ],\n",
       "       [ 58.        ,   1.        ,  26.55      ],\n",
       "       [ 20.        ,   0.        ,   8.05      ],\n",
       "       [ 39.        ,   0.        ,  31.275     ],\n",
       "       [ 14.        ,   1.        ,   7.8542    ],\n",
       "       [ 55.        ,   1.        ,  16.        ],\n",
       "       [  2.        ,   0.        ,  29.125     ],\n",
       "       [ 28.14150794,   0.        ,  13.        ],\n",
       "       [ 31.        ,   1.        ,  18.        ],\n",
       "       [ 28.14150794,   1.        ,   7.225     ],\n",
       "       [ 35.        ,   0.        ,  26.        ],\n",
       "       [ 34.        ,   0.        ,  13.        ],\n",
       "       [ 15.        ,   1.        ,   8.0292    ],\n",
       "       [ 28.        ,   0.        ,  35.5       ],\n",
       "       [  8.        ,   1.        ,  21.075     ],\n",
       "       [ 38.        ,   1.        ,  31.3875    ],\n",
       "       [ 28.14150794,   0.        ,   7.225     ],\n",
       "       [ 19.        ,   0.        , 263.        ],\n",
       "       [ 28.14150794,   1.        ,   7.8792    ],\n",
       "       [ 28.14150794,   0.        ,   7.8958    ],\n",
       "       [ 40.        ,   0.        ,  27.7208    ],\n",
       "       [ 28.14150794,   1.        , 146.5208    ],\n",
       "       [ 28.14150794,   1.        ,   7.75      ],\n",
       "       [ 66.        ,   0.        ,  10.5       ],\n",
       "       [ 28.        ,   0.        ,  82.1708    ],\n",
       "       [ 42.        ,   0.        ,  52.        ],\n",
       "       [ 28.14150794,   0.        ,   7.2292    ],\n",
       "       [ 21.        ,   0.        ,   8.05      ],\n",
       "       [ 18.        ,   1.        ,  18.        ],\n",
       "       [ 14.        ,   1.        ,  11.2417    ],\n",
       "       [ 40.        ,   1.        ,   9.475     ],\n",
       "       [ 27.        ,   1.        ,  21.        ],\n",
       "       [ 28.14150794,   0.        ,   7.8958    ],\n",
       "       [  3.        ,   1.        ,  41.5792    ],\n",
       "       [ 19.        ,   1.        ,   7.8792    ],\n",
       "       [ 28.14150794,   0.        ,   8.05      ],\n",
       "       [ 28.14150794,   0.        ,  15.5       ],\n",
       "       [ 28.14150794,   1.        ,   7.75      ],\n",
       "       [ 28.14150794,   0.        ,  21.6792    ],\n",
       "       [ 18.        ,   1.        ,  17.8       ],\n",
       "       [  7.        ,   0.        ,  39.6875    ],\n",
       "       [ 21.        ,   0.        ,   7.8       ],\n",
       "       [ 49.        ,   1.        ,  76.7292    ],\n",
       "       [ 29.        ,   1.        ,  26.        ],\n",
       "       [ 65.        ,   0.        ,  61.9792    ],\n",
       "       [ 28.14150794,   0.        ,  35.5       ],\n",
       "       [ 21.        ,   1.        ,  10.5       ],\n",
       "       [ 28.5       ,   0.        ,   7.2292    ],\n",
       "       [  5.        ,   1.        ,  27.75      ],\n",
       "       [ 11.        ,   0.        ,  46.9       ],\n",
       "       [ 22.        ,   0.        ,   7.2292    ],\n",
       "       [ 38.        ,   1.        ,  80.        ],\n",
       "       [ 45.        ,   0.        ,  83.475     ],\n",
       "       [  4.        ,   0.        ,  27.9       ],\n",
       "       [ 28.14150794,   0.        ,  27.7208    ],\n",
       "       [ 28.14150794,   0.        ,  15.2458    ],\n",
       "       [ 29.        ,   1.        ,  10.5       ],\n",
       "       [ 19.        ,   0.        ,   8.1583    ],\n",
       "       [ 17.        ,   1.        ,   7.925     ],\n",
       "       [ 26.        ,   0.        ,   8.6625    ],\n",
       "       [ 32.        ,   0.        ,  10.5       ],\n",
       "       [ 16.        ,   1.        ,  46.9       ],\n",
       "       [ 21.        ,   0.        ,  73.5       ],\n",
       "       [ 26.        ,   0.        ,  14.4542    ],\n",
       "       [ 32.        ,   0.        ,  56.4958    ],\n",
       "       [ 25.        ,   0.        ,   7.65      ],\n",
       "       [ 28.14150794,   0.        ,   7.8958    ],\n",
       "       [ 28.14150794,   0.        ,   8.05      ],\n",
       "       [  0.83      ,   0.        ,  29.        ],\n",
       "       [ 30.        ,   1.        ,  12.475     ],\n",
       "       [ 22.        ,   0.        ,   9.        ],\n",
       "       [ 29.        ,   0.        ,   9.5       ],\n",
       "       [ 28.14150794,   1.        ,   7.7875    ],\n",
       "       [ 28.        ,   0.        ,  47.1       ],\n",
       "       [ 17.        ,   1.        ,  10.5       ],\n",
       "       [ 33.        ,   1.        ,  15.85      ],\n",
       "       [ 16.        ,   0.        ,  34.375     ],\n",
       "       [ 28.14150794,   0.        ,   8.05      ],\n",
       "       [ 23.        ,   1.        , 263.        ],\n",
       "       [ 24.        ,   0.        ,   8.05      ],\n",
       "       [ 29.        ,   0.        ,   8.05      ],\n",
       "       [ 20.        ,   0.        ,   7.8542    ],\n",
       "       [ 46.        ,   0.        ,  61.175     ],\n",
       "       [ 26.        ,   0.        ,  20.575     ],\n",
       "       [ 59.        ,   0.        ,   7.25      ],\n",
       "       [ 28.14150794,   0.        ,   8.05      ],\n",
       "       [ 71.        ,   0.        ,  34.6542    ],\n",
       "       [ 23.        ,   0.        ,  63.3583    ],\n",
       "       [ 34.        ,   1.        ,  23.        ],\n",
       "       [ 34.        ,   0.        ,  26.        ],\n",
       "       [ 28.        ,   1.        ,   7.8958    ],\n",
       "       [ 28.14150794,   0.        ,   7.8958    ],\n",
       "       [ 21.        ,   0.        ,  77.2875    ],\n",
       "       [ 33.        ,   0.        ,   8.6542    ],\n",
       "       [ 37.        ,   0.        ,   7.925     ],\n",
       "       [ 28.        ,   0.        ,   7.8958    ],\n",
       "       [ 21.        ,   1.        ,   7.65      ],\n",
       "       [ 28.14150794,   0.        ,   7.775     ],\n",
       "       [ 38.        ,   0.        ,   7.8958    ],\n",
       "       [ 28.14150794,   1.        ,  24.15      ],\n",
       "       [ 47.        ,   0.        ,  52.        ],\n",
       "       [ 14.5       ,   1.        ,  14.4542    ],\n",
       "       [ 22.        ,   0.        ,   8.05      ],\n",
       "       [ 20.        ,   1.        ,   9.825     ],\n",
       "       [ 17.        ,   1.        ,  14.4583    ],\n",
       "       [ 21.        ,   0.        ,   7.925     ],\n",
       "       [ 70.5       ,   0.        ,   7.75      ],\n",
       "       [ 29.        ,   0.        ,  21.        ],\n",
       "       [ 24.        ,   0.        , 247.5208    ],\n",
       "       [  2.        ,   1.        ,  31.275     ],\n",
       "       [ 21.        ,   0.        ,  73.5       ],\n",
       "       [ 28.14150794,   0.        ,   8.05      ],\n",
       "       [ 32.5       ,   0.        ,  30.0708    ],\n",
       "       [ 32.5       ,   1.        ,  13.        ],\n",
       "       [ 54.        ,   0.        ,  77.2875    ],\n",
       "       [ 12.        ,   0.        ,  11.2417    ],\n",
       "       [ 28.14150794,   0.        ,   7.75      ],\n",
       "       [ 24.        ,   0.        ,   7.1417    ],\n",
       "       [ 28.14150794,   1.        ,  22.3583    ],\n",
       "       [ 45.        ,   0.        ,   6.975     ],\n",
       "       [ 33.        ,   0.        ,   7.8958    ],\n",
       "       [ 20.        ,   0.        ,   7.05      ],\n",
       "       [ 47.        ,   1.        ,  14.5       ],\n",
       "       [ 29.        ,   1.        ,  26.        ],\n",
       "       [ 25.        ,   0.        ,  13.        ],\n",
       "       [ 23.        ,   0.        ,  15.0458    ],\n",
       "       [ 19.        ,   1.        ,  26.2833    ],\n",
       "       [ 37.        ,   0.        ,  53.1       ],\n",
       "       [ 16.        ,   0.        ,   9.2167    ],\n",
       "       [ 24.        ,   0.        ,  79.2       ],\n",
       "       [ 28.14150794,   1.        ,  15.2458    ],\n",
       "       [ 22.        ,   1.        ,   7.75      ],\n",
       "       [ 24.        ,   1.        ,  15.85      ],\n",
       "       [ 19.        ,   0.        ,   6.75      ],\n",
       "       [ 18.        ,   0.        ,  11.5       ],\n",
       "       [ 19.        ,   0.        ,  36.75      ],\n",
       "       [ 27.        ,   0.        ,   7.7958    ],\n",
       "       [  9.        ,   1.        ,  34.375     ],\n",
       "       [ 36.5       ,   0.        ,  26.        ],\n",
       "       [ 42.        ,   0.        ,  13.        ],\n",
       "       [ 51.        ,   0.        ,  12.525     ],\n",
       "       [ 22.        ,   1.        ,  66.6       ],\n",
       "       [ 55.5       ,   0.        ,   8.05      ],\n",
       "       [ 40.5       ,   0.        ,  14.5       ],\n",
       "       [ 28.14150794,   0.        ,   7.3125    ],\n",
       "       [ 51.        ,   0.        ,  61.3792    ]])"
      ]
     },
     "execution_count": 86,
     "metadata": {},
     "output_type": "execute_result"
    }
   ],
   "source": [
    "mapper.transform(titanic)"
   ]
  },
  {
   "cell_type": "code",
   "execution_count": 41,
   "metadata": {},
   "outputs": [],
   "source": [
    "from sklearn.model_selection import train_test_split"
   ]
  },
  {
   "cell_type": "code",
   "execution_count": 42,
   "metadata": {},
   "outputs": [],
   "source": [
    "X_train, X_test, y_train, y_test = train_test_split(titanic.drop(\"Survived\", axis=1),\n",
    "                                                    titanic[\"Survived\"])"
   ]
  },
  {
   "cell_type": "code",
   "execution_count": 43,
   "metadata": {},
   "outputs": [
    {
     "data": {
      "text/plain": [
       "DataFrameMapper(default=False, df_out=False,\n",
       "        features=[(['Age'], SimpleImputer(copy=True, fill_value=None, missing_values=nan, strategy='mean',\n",
       "       verbose=0)), ('Sex', FunctionTransformer(func=None))],\n",
       "        input_df=False, sparse=False)"
      ]
     },
     "execution_count": 43,
     "metadata": {},
     "output_type": "execute_result"
    }
   ],
   "source": [
    "mapper.fit(X_train)"
   ]
  },
  {
   "cell_type": "code",
   "execution_count": 44,
   "metadata": {},
   "outputs": [
    {
     "data": {
      "text/plain": [
       "array([[28.32797872,  0.        ],\n",
       "       [34.        ,  0.        ],\n",
       "       [29.        ,  0.        ],\n",
       "       [27.        ,  1.        ],\n",
       "       [28.32797872,  0.        ],\n",
       "       [28.32797872,  1.        ],\n",
       "       [38.        ,  0.        ],\n",
       "       [27.        ,  0.        ],\n",
       "       [28.32797872,  0.        ],\n",
       "       [28.32797872,  1.        ],\n",
       "       [28.32797872,  0.        ],\n",
       "       [28.32797872,  0.        ],\n",
       "       [47.        ,  1.        ],\n",
       "       [42.        ,  0.        ],\n",
       "       [26.        ,  1.        ],\n",
       "       [25.        ,  0.        ],\n",
       "       [22.        ,  0.        ],\n",
       "       [15.        ,  1.        ],\n",
       "       [46.        ,  0.        ],\n",
       "       [28.5       ,  0.        ],\n",
       "       [11.        ,  0.        ],\n",
       "       [51.        ,  0.        ],\n",
       "       [19.        ,  0.        ],\n",
       "       [ 4.        ,  1.        ],\n",
       "       [26.        ,  0.        ],\n",
       "       [28.32797872,  1.        ],\n",
       "       [29.        ,  0.        ],\n",
       "       [21.        ,  0.        ],\n",
       "       [32.        ,  0.        ],\n",
       "       [28.32797872,  1.        ],\n",
       "       [14.        ,  1.        ],\n",
       "       [ 9.        ,  1.        ],\n",
       "       [28.32797872,  0.        ],\n",
       "       [18.        ,  1.        ],\n",
       "       [24.        ,  0.        ],\n",
       "       [14.        ,  1.        ],\n",
       "       [ 5.        ,  1.        ],\n",
       "       [35.        ,  0.        ],\n",
       "       [28.        ,  0.        ],\n",
       "       [23.        ,  1.        ],\n",
       "       [16.        ,  0.        ],\n",
       "       [28.32797872,  0.        ],\n",
       "       [21.        ,  0.        ],\n",
       "       [37.        ,  0.        ],\n",
       "       [28.32797872,  0.        ],\n",
       "       [47.        ,  0.        ],\n",
       "       [17.        ,  1.        ],\n",
       "       [28.32797872,  0.        ],\n",
       "       [18.        ,  0.        ],\n",
       "       [ 2.        ,  0.        ],\n",
       "       [ 0.83      ,  0.        ],\n",
       "       [21.        ,  1.        ],\n",
       "       [24.        ,  0.        ],\n",
       "       [28.32797872,  0.        ],\n",
       "       [38.        ,  1.        ],\n",
       "       [28.32797872,  0.        ],\n",
       "       [22.        ,  1.        ],\n",
       "       [12.        ,  0.        ],\n",
       "       [19.        ,  0.        ],\n",
       "       [42.        ,  0.        ],\n",
       "       [35.        ,  0.        ],\n",
       "       [28.        ,  0.        ],\n",
       "       [28.32797872,  0.        ],\n",
       "       [26.        ,  0.        ],\n",
       "       [28.        ,  0.        ],\n",
       "       [71.        ,  0.        ],\n",
       "       [21.        ,  0.        ],\n",
       "       [20.        ,  1.        ],\n",
       "       [32.        ,  0.        ],\n",
       "       [20.        ,  0.        ],\n",
       "       [22.        ,  0.        ],\n",
       "       [29.        ,  0.        ],\n",
       "       [29.        ,  1.        ],\n",
       "       [24.        ,  1.        ],\n",
       "       [19.        ,  0.        ],\n",
       "       [45.        ,  0.        ],\n",
       "       [51.        ,  0.        ],\n",
       "       [34.        ,  1.        ],\n",
       "       [27.        ,  1.        ],\n",
       "       [55.        ,  1.        ],\n",
       "       [38.        ,  1.        ],\n",
       "       [45.        ,  0.        ],\n",
       "       [18.        ,  1.        ],\n",
       "       [33.        ,  0.        ],\n",
       "       [35.        ,  1.        ],\n",
       "       [21.        ,  1.        ],\n",
       "       [31.        ,  1.        ],\n",
       "       [33.        ,  1.        ],\n",
       "       [28.32797872,  0.        ],\n",
       "       [55.5       ,  0.        ],\n",
       "       [19.        ,  1.        ],\n",
       "       [28.32797872,  0.        ],\n",
       "       [24.        ,  0.        ],\n",
       "       [36.5       ,  0.        ],\n",
       "       [32.5       ,  1.        ],\n",
       "       [14.        ,  1.        ],\n",
       "       [28.32797872,  1.        ],\n",
       "       [28.        ,  1.        ],\n",
       "       [28.32797872,  0.        ],\n",
       "       [70.5       ,  0.        ],\n",
       "       [21.        ,  0.        ],\n",
       "       [14.5       ,  1.        ],\n",
       "       [28.32797872,  0.        ],\n",
       "       [28.32797872,  0.        ],\n",
       "       [28.        ,  0.        ],\n",
       "       [28.32797872,  0.        ],\n",
       "       [59.        ,  0.        ],\n",
       "       [40.        ,  0.        ],\n",
       "       [19.        ,  0.        ],\n",
       "       [20.        ,  0.        ],\n",
       "       [40.        ,  1.        ],\n",
       "       [23.        ,  0.        ],\n",
       "       [24.        ,  0.        ],\n",
       "       [23.        ,  0.        ],\n",
       "       [20.        ,  0.        ],\n",
       "       [58.        ,  1.        ],\n",
       "       [17.        ,  1.        ]])"
      ]
     },
     "execution_count": 44,
     "metadata": {},
     "output_type": "execute_result"
    }
   ],
   "source": [
    "mapper.transform(X_train)"
   ]
  },
  {
   "cell_type": "code",
   "execution_count": 45,
   "metadata": {},
   "outputs": [
    {
     "data": {
      "text/plain": [
       "array([[30.        ,  1.        ],\n",
       "       [40.5       ,  0.        ],\n",
       "       [22.        ,  0.        ],\n",
       "       [ 2.        ,  1.        ],\n",
       "       [29.        ,  1.        ],\n",
       "       [19.        ,  1.        ],\n",
       "       [54.        ,  0.        ],\n",
       "       [26.        ,  0.        ],\n",
       "       [32.5       ,  0.        ],\n",
       "       [28.32797872,  1.        ],\n",
       "       [54.        ,  0.        ],\n",
       "       [17.        ,  1.        ],\n",
       "       [ 7.        ,  0.        ],\n",
       "       [28.32797872,  1.        ],\n",
       "       [21.        ,  0.        ],\n",
       "       [16.        ,  0.        ],\n",
       "       [37.        ,  0.        ],\n",
       "       [16.        ,  1.        ],\n",
       "       [65.        ,  0.        ],\n",
       "       [ 3.        ,  1.        ],\n",
       "       [49.        ,  1.        ],\n",
       "       [28.32797872,  0.        ],\n",
       "       [28.32797872,  0.        ],\n",
       "       [28.32797872,  0.        ],\n",
       "       [33.        ,  0.        ],\n",
       "       [29.        ,  1.        ],\n",
       "       [ 2.        ,  0.        ],\n",
       "       [ 4.        ,  0.        ],\n",
       "       [22.        ,  0.        ],\n",
       "       [28.32797872,  1.        ],\n",
       "       [ 8.        ,  1.        ],\n",
       "       [21.        ,  0.        ],\n",
       "       [38.        ,  1.        ],\n",
       "       [28.32797872,  1.        ],\n",
       "       [39.        ,  0.        ],\n",
       "       [25.        ,  0.        ],\n",
       "       [22.        ,  1.        ],\n",
       "       [66.        ,  0.        ],\n",
       "       [34.        ,  0.        ]])"
      ]
     },
     "execution_count": 45,
     "metadata": {},
     "output_type": "execute_result"
    }
   ],
   "source": [
    "mapper.transform(X_test)"
   ]
  },
  {
   "cell_type": "code",
   "execution_count": 49,
   "metadata": {},
   "outputs": [],
   "source": [
    "from sklearn.tree import DecisionTreeClassifier"
   ]
  },
  {
   "cell_type": "code",
   "execution_count": 62,
   "metadata": {},
   "outputs": [],
   "source": [
    "model = DecisionTreeClassifier(max_depth=4)"
   ]
  },
  {
   "cell_type": "code",
   "execution_count": 63,
   "metadata": {},
   "outputs": [],
   "source": [
    "pipe = sklearn_pandas.pipeline.Pipeline(steps=[\n",
    "    (\"dataprep\", mapper),\n",
    "    (\"model\", model)\n",
    "])"
   ]
  },
  {
   "cell_type": "code",
   "execution_count": 64,
   "metadata": {},
   "outputs": [
    {
     "data": {
      "text/plain": [
       "Pipeline(memory=None,\n",
       "     steps=[('dataprep', DataFrameMapper(default=False, df_out=False,\n",
       "        features=[(['Age'], SimpleImputer(copy=True, fill_value=None, missing_values=nan, strategy='mean',\n",
       "       verbose=0)), ('Sex', FunctionTransformer(func=None))],\n",
       "        input_df=False, sparse=False)), ('model', DecisionTreeClas...      min_weight_fraction_leaf=0.0, presort=False, random_state=None,\n",
       "            splitter='best'))])"
      ]
     },
     "execution_count": 64,
     "metadata": {},
     "output_type": "execute_result"
    }
   ],
   "source": [
    "pipe.fit(X_train, y_train)"
   ]
  },
  {
   "cell_type": "code",
   "execution_count": 65,
   "metadata": {},
   "outputs": [
    {
     "data": {
      "text/plain": [
       "79     1\n",
       "153    0\n",
       "80     0\n",
       "119    0\n",
       "53     1\n",
       "136    1\n",
       "6      0\n",
       "69     0\n",
       "122    0\n",
       "140    0\n",
       "124    0\n",
       "84     1\n",
       "50     0\n",
       "32     1\n",
       "120    0\n",
       "86     0\n",
       "104    0\n",
       "71     0\n",
       "54     0\n",
       "43     1\n",
       "52     1\n",
       "48     0\n",
       "77     0\n",
       "65     1\n",
       "130    0\n",
       "66     1\n",
       "16     0\n",
       "63     0\n",
       "60     0\n",
       "47     1\n",
       "24     0\n",
       "51     0\n",
       "61     1\n",
       "128    1\n",
       "13     0\n",
       "75     0\n",
       "151    1\n",
       "33     0\n",
       "21     1\n",
       "Name: Survived, dtype: int64"
      ]
     },
     "execution_count": 65,
     "metadata": {},
     "output_type": "execute_result"
    }
   ],
   "source": [
    "y_test"
   ]
  },
  {
   "cell_type": "code",
   "execution_count": 66,
   "metadata": {},
   "outputs": [],
   "source": [
    "from sklearn.metrics import log_loss"
   ]
  },
  {
   "cell_type": "code",
   "execution_count": 67,
   "metadata": {},
   "outputs": [],
   "source": [
    "y_pred = pipe.predict_proba(X_test)"
   ]
  },
  {
   "cell_type": "code",
   "execution_count": 68,
   "metadata": {},
   "outputs": [
    {
     "data": {
      "text/plain": [
       "array([[0.1875    , 0.8125    ],\n",
       "       [1.        , 0.        ],\n",
       "       [0.94444444, 0.05555556],\n",
       "       [0.        , 1.        ],\n",
       "       [0.1875    , 0.8125    ],\n",
       "       [0.54545455, 0.45454545],\n",
       "       [1.        , 0.        ],\n",
       "       [0.73684211, 0.26315789],\n",
       "       [0.73684211, 0.26315789],\n",
       "       [0.1875    , 0.8125    ],\n",
       "       [1.        , 0.        ],\n",
       "       [0.54545455, 0.45454545],\n",
       "       [0.94444444, 0.05555556],\n",
       "       [0.1875    , 0.8125    ],\n",
       "       [0.94444444, 0.05555556],\n",
       "       [0.94444444, 0.05555556],\n",
       "       [1.        , 0.        ],\n",
       "       [0.54545455, 0.45454545],\n",
       "       [1.        , 0.        ],\n",
       "       [0.        , 1.        ],\n",
       "       [1.        , 0.        ],\n",
       "       [0.73684211, 0.26315789],\n",
       "       [0.73684211, 0.26315789],\n",
       "       [0.73684211, 0.26315789],\n",
       "       [1.        , 0.        ],\n",
       "       [0.1875    , 0.8125    ],\n",
       "       [0.94444444, 0.05555556],\n",
       "       [0.94444444, 0.05555556],\n",
       "       [0.94444444, 0.05555556],\n",
       "       [0.1875    , 0.8125    ],\n",
       "       [1.        , 0.        ],\n",
       "       [0.94444444, 0.05555556],\n",
       "       [0.1875    , 0.8125    ],\n",
       "       [0.1875    , 0.8125    ],\n",
       "       [1.        , 0.        ],\n",
       "       [0.73684211, 0.26315789],\n",
       "       [0.        , 1.        ],\n",
       "       [1.        , 0.        ],\n",
       "       [1.        , 0.        ]])"
      ]
     },
     "execution_count": 68,
     "metadata": {},
     "output_type": "execute_result"
    }
   ],
   "source": [
    "y_pred"
   ]
  },
  {
   "cell_type": "code",
   "execution_count": 70,
   "metadata": {},
   "outputs": [
    {
     "data": {
      "text/plain": [
       "2.8781027774681576"
      ]
     },
     "execution_count": 70,
     "metadata": {},
     "output_type": "execute_result"
    }
   ],
   "source": [
    "log_loss(y_test, y_pred)"
   ]
  },
  {
   "cell_type": "code",
   "execution_count": 71,
   "metadata": {},
   "outputs": [],
   "source": [
    "from sklearn.linear_model import LogisticRegression"
   ]
  },
  {
   "cell_type": "code",
   "execution_count": 75,
   "metadata": {},
   "outputs": [],
   "source": [
    "model = LogisticRegression(solver=\"lbfgs\")\n",
    "pipe = sklearn_pandas.pipeline.Pipeline(steps=[\n",
    "    (\"dataprep\", mapper),\n",
    "    (\"model\", model)\n",
    "])"
   ]
  },
  {
   "cell_type": "code",
   "execution_count": 76,
   "metadata": {},
   "outputs": [
    {
     "data": {
      "text/plain": [
       "Pipeline(memory=None,\n",
       "     steps=[('dataprep', DataFrameMapper(default=False, df_out=False,\n",
       "        features=[(['Age'], SimpleImputer(copy=True, fill_value=None, missing_values=nan, strategy='mean',\n",
       "       verbose=0)), ('Sex', FunctionTransformer(func=None))],\n",
       "        input_df=False, sparse=False)), ('model', LogisticRegressi...enalty='l2', random_state=None, solver='lbfgs',\n",
       "          tol=0.0001, verbose=0, warm_start=False))])"
      ]
     },
     "execution_count": 76,
     "metadata": {},
     "output_type": "execute_result"
    }
   ],
   "source": [
    "pipe.fit(X_train, y_train)"
   ]
  },
  {
   "cell_type": "code",
   "execution_count": 79,
   "metadata": {},
   "outputs": [],
   "source": [
    "y_pred = pipe.predict_proba(X_test)"
   ]
  },
  {
   "cell_type": "code",
   "execution_count": 81,
   "metadata": {},
   "outputs": [
    {
     "data": {
      "text/plain": [
       "0.45633493530627095"
      ]
     },
     "execution_count": 81,
     "metadata": {},
     "output_type": "execute_result"
    }
   ],
   "source": [
    "log_loss(y_test, y_pred)"
   ]
  },
  {
   "cell_type": "code",
   "execution_count": null,
   "metadata": {},
   "outputs": [],
   "source": []
  }
 ],
 "metadata": {
  "kernelspec": {
   "display_name": "Python (learn-env)",
   "language": "python",
   "name": "learn-env"
  },
  "language_info": {
   "codemirror_mode": {
    "name": "ipython",
    "version": 3
   },
   "file_extension": ".py",
   "mimetype": "text/x-python",
   "name": "python",
   "nbconvert_exporter": "python",
   "pygments_lexer": "ipython3",
   "version": "3.6.6"
  }
 },
 "nbformat": 4,
 "nbformat_minor": 2
}
